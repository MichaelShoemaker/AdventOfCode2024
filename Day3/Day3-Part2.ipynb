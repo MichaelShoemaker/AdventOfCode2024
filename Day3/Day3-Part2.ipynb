{
 "cells": [
  {
   "cell_type": "code",
   "execution_count": 129,
   "metadata": {},
   "outputs": [],
   "source": [
    "import re\n",
    "dos = []\n",
    "donts = []\n",
    "f = open('input.txt').read()\n",
    "find_dos = re.finditer(r\"do\\(\\)\",f)\n",
    "find_donts = re.finditer(r'don\\'t()',f)\n",
    "for i in find_dos:\n",
    "    dos.append(i.span())\n",
    "for i in find_donts:\n",
    "    donts.append(i.span())\n"
   ]
  },
  {
   "cell_type": "code",
   "execution_count": 130,
   "metadata": {},
   "outputs": [
    {
     "data": {
      "text/plain": [
       "[(1115, 1119),\n",
       " (2129, 2133),\n",
       " (3800, 3804),\n",
       " (6131, 6135),\n",
       " (6227, 6231),\n",
       " (6980, 6984),\n",
       " (8133, 8137),\n",
       " (8441, 8445),\n",
       " (9512, 9516),\n",
       " (9732, 9736),\n",
       " (10118, 10122),\n",
       " (11837, 11841),\n",
       " (12358, 12362),\n",
       " (12842, 12846),\n",
       " (14243, 14247),\n",
       " (15152, 15156),\n",
       " (15919, 15923),\n",
       " (16485, 16489),\n",
       " (16779, 16783),\n",
       " (18539, 18543)]"
      ]
     },
     "execution_count": 130,
     "metadata": {},
     "output_type": "execute_result"
    }
   ],
   "source": [
    "dos"
   ]
  },
  {
   "cell_type": "code",
   "execution_count": 131,
   "metadata": {},
   "outputs": [
    {
     "data": {
      "text/plain": [
       "[(978, 983),\n",
       " (1187, 1192),\n",
       " (1260, 1265),\n",
       " (1353, 1358),\n",
       " (1807, 1812),\n",
       " (2558, 2563),\n",
       " (2641, 2646),\n",
       " (4434, 4439),\n",
       " (4876, 4881),\n",
       " (5552, 5557),\n",
       " (6298, 6303),\n",
       " (6615, 6620),\n",
       " (8018, 8023),\n",
       " (8195, 8200),\n",
       " (10357, 10362),\n",
       " (11101, 11106),\n",
       " (11979, 11984),\n",
       " (13011, 13016),\n",
       " (13305, 13310),\n",
       " (15060, 15065),\n",
       " (15753, 15758),\n",
       " (16367, 16372),\n",
       " (16821, 16826),\n",
       " (18675, 18680),\n",
       " (19037, 19042),\n",
       " (19210, 19215)]"
      ]
     },
     "execution_count": 131,
     "metadata": {},
     "output_type": "execute_result"
    }
   ],
   "source": [
    "donts"
   ]
  },
  {
   "cell_type": "code",
   "execution_count": 132,
   "metadata": {},
   "outputs": [],
   "source": [
    "ldos = []\n",
    "ldonts = []\n",
    "for i in dos:\n",
    "    ldos.append(('do', i[1]))"
   ]
  },
  {
   "cell_type": "code",
   "execution_count": 133,
   "metadata": {},
   "outputs": [],
   "source": [
    "for i in donts:\n",
    "    ldonts.append(('dont', i[1]))"
   ]
  },
  {
   "cell_type": "code",
   "execution_count": 134,
   "metadata": {},
   "outputs": [],
   "source": [
    "moves = ldos+ldonts"
   ]
  },
  {
   "cell_type": "code",
   "execution_count": 135,
   "metadata": {},
   "outputs": [
    {
     "data": {
      "text/plain": [
       "[('do', 1119),\n",
       " ('do', 2133),\n",
       " ('do', 3804),\n",
       " ('do', 6135),\n",
       " ('do', 6231),\n",
       " ('do', 6984),\n",
       " ('do', 8137),\n",
       " ('do', 8445),\n",
       " ('do', 9516),\n",
       " ('do', 9736),\n",
       " ('do', 10122),\n",
       " ('do', 11841),\n",
       " ('do', 12362),\n",
       " ('do', 12846),\n",
       " ('do', 14247),\n",
       " ('do', 15156),\n",
       " ('do', 15923),\n",
       " ('do', 16489),\n",
       " ('do', 16783),\n",
       " ('do', 18543),\n",
       " ('dont', 983),\n",
       " ('dont', 1192),\n",
       " ('dont', 1265),\n",
       " ('dont', 1358),\n",
       " ('dont', 1812),\n",
       " ('dont', 2563),\n",
       " ('dont', 2646),\n",
       " ('dont', 4439),\n",
       " ('dont', 4881),\n",
       " ('dont', 5557),\n",
       " ('dont', 6303),\n",
       " ('dont', 6620),\n",
       " ('dont', 8023),\n",
       " ('dont', 8200),\n",
       " ('dont', 10362),\n",
       " ('dont', 11106),\n",
       " ('dont', 11984),\n",
       " ('dont', 13016),\n",
       " ('dont', 13310),\n",
       " ('dont', 15065),\n",
       " ('dont', 15758),\n",
       " ('dont', 16372),\n",
       " ('dont', 16826),\n",
       " ('dont', 18680),\n",
       " ('dont', 19042),\n",
       " ('dont', 19215)]"
      ]
     },
     "execution_count": 135,
     "metadata": {},
     "output_type": "execute_result"
    }
   ],
   "source": [
    "moves"
   ]
  },
  {
   "cell_type": "code",
   "execution_count": 136,
   "metadata": {},
   "outputs": [],
   "source": [
    "test = sorted(moves, key = lambda x: x[1])"
   ]
  },
  {
   "cell_type": "code",
   "execution_count": 137,
   "metadata": {},
   "outputs": [
    {
     "data": {
      "text/plain": [
       "[('dont', 983),\n",
       " ('do', 1119),\n",
       " ('dont', 1192),\n",
       " ('dont', 1265),\n",
       " ('dont', 1358),\n",
       " ('dont', 1812),\n",
       " ('do', 2133),\n",
       " ('dont', 2563),\n",
       " ('dont', 2646),\n",
       " ('do', 3804),\n",
       " ('dont', 4439),\n",
       " ('dont', 4881),\n",
       " ('dont', 5557),\n",
       " ('do', 6135),\n",
       " ('do', 6231),\n",
       " ('dont', 6303),\n",
       " ('dont', 6620),\n",
       " ('do', 6984),\n",
       " ('dont', 8023),\n",
       " ('do', 8137),\n",
       " ('dont', 8200),\n",
       " ('do', 8445),\n",
       " ('do', 9516),\n",
       " ('do', 9736),\n",
       " ('do', 10122),\n",
       " ('dont', 10362),\n",
       " ('dont', 11106),\n",
       " ('do', 11841),\n",
       " ('dont', 11984),\n",
       " ('do', 12362),\n",
       " ('do', 12846),\n",
       " ('dont', 13016),\n",
       " ('dont', 13310),\n",
       " ('do', 14247),\n",
       " ('dont', 15065),\n",
       " ('do', 15156),\n",
       " ('dont', 15758),\n",
       " ('do', 15923),\n",
       " ('dont', 16372),\n",
       " ('do', 16489),\n",
       " ('do', 16783),\n",
       " ('dont', 16826),\n",
       " ('do', 18543),\n",
       " ('dont', 18680),\n",
       " ('dont', 19042),\n",
       " ('dont', 19215)]"
      ]
     },
     "execution_count": 137,
     "metadata": {},
     "output_type": "execute_result"
    }
   ],
   "source": [
    "test"
   ]
  },
  {
   "cell_type": "code",
   "execution_count": 142,
   "metadata": {},
   "outputs": [],
   "source": [
    "# seed = []\n",
    "# seed.append(f[test[1][1]])\n",
    "spans = []\n",
    "s = [0]\n",
    "for i, n in enumerate(test):\n",
    "    if n[0] == 'do':\n",
    "        s = [n[1]]\n",
    "    if n[0] == 'dont' and len(s) == 0:\n",
    "        pass\n",
    "    elif n[0] == 'dont' and len(s) == 1:\n",
    "        s.append(n[1])\n",
    "        spans.append(s)\n",
    "        s = []\n",
    "    if i == len(test)-1 and len(s) > 0:\n",
    "        spans.append([s[0],len(f)])\n",
    "    \n",
    "\n",
    "    "
   ]
  },
  {
   "cell_type": "code",
   "execution_count": 141,
   "metadata": {},
   "outputs": [
    {
     "data": {
      "text/plain": [
       "[]"
      ]
     },
     "execution_count": 141,
     "metadata": {},
     "output_type": "execute_result"
    }
   ],
   "source": [
    "s"
   ]
  },
  {
   "cell_type": "code",
   "execution_count": 143,
   "metadata": {},
   "outputs": [],
   "source": [
    "siffter = []\n",
    "for span in spans:\n",
    "    siffter.append(f[span[0]:span[1]])"
   ]
  },
  {
   "cell_type": "code",
   "execution_count": 144,
   "metadata": {},
   "outputs": [
    {
     "data": {
      "text/plain": [
       "[\"}mul(417,770)%why(){/':mul(187,313)<@*select()mul(908,713)who()$mul(156,598)#from()* from()^-mul(233,874)&when()mul(346,616)what()(select(),when()where()when()when()&}mul(814,171)+;how() ?)when()?mul(68,188),[select(336,87)^%when(108,692)#mul(621,712){}when()how(69,755)mul(273,27)+:'?( /what()who()from()mul(135,680)-]{:;mul(7,723)where()@{mul(626,107))how()//when(),~+mul(834,113)&!where()$mul(951,76) /why(767,720)mul(107,588)mul(632,977)mul(55,47))[select()']what()mul(803,299)&%#mul(684,214)]}{-}[mul(806,141),mul(166,98)(select()<what():{^mul(98,724)(]from(),what()#,(mul(71,173)from(192,627)&}~when()/mul(142,594)what()<from(594,583)/[~@mul(48,200)why()]^[%/mul(153,486)~:why(),'/mul(555,221): ]+mul(964,152)]/-;why()mul(928,59)+ who(345,334)where()where()mul(953,755))^from()<from()>[*'mul(619,823)mul(633,178)-how()from()?from()*#what()'mul(806,961)what()!?mul(529,544)?+[@$where()mul(498,66)?where()why()who()when()why()'from(742,433)mul(623,31)what()&{>]when()who()$/don't\",\n",
       " \"who()!+^mul(579,603);>mul(365,610)!#<^;mul(802,476)}')select()what()don't\",\n",
       " \"&mul(98,768)^<'~#][{where()<mul(330,387)mul(30,766){who()#from()%&mul(146,838)who()}where();how()+where():mul(593,206)/(>mul(173,805)}what()/$#<why()>#}mul(369,326):why(421,566)#mul(357where(305,979)what()*)*mul(775,55){when()%select()~/what() /mul(332,608)-who(),mul(592,150)~/#&#}]mul(453,71>~'from()~%mul(540,100)$/:}#(@ mul(789,978)%$](#{>]?mul(473,873)when()where() {@]why()mul(606,201)who()how()mul(212,663)^;#:when())#don't\",\n",
       " \"[why()how()+&mul(228,575)%$where()&#why()from()mul(601,339)#:>@(from()mul(9,628)~{$],why(412,785)):mul(921,60)?when()$mul(230,472)%where(){?}@{mul(57,287)mul(620,392)who()))how()')}mul(920,110)) how()why()>*)from()'mul(66,955)who()mul(339,162)how()from()#mul(63,609)?+how()<&#where() mul(917,834)(mul(845,751)/mul(803,539)~>&:##?:why()<mul(554,940)from():;where()&who()what(807,73)from()mul(742,258)<why() why(764,736)from()when()who()mul(487,500)(%when()~+/{))[mul(689,792#why()when()>']%<select()-mul(455,937)mul(520,734)select()select()why()@@mul(330,396:,;&?where(511,149))what()<mul(528,808){::why()]['mul(482,123)how()#why()don't\",\n",
       " \"~ {(select():why()*mul(691,254)select()why()mul(911,232)where()]#;'don't\",\n",
       " \"@-mul(472,734);)~where()who()-<'from()@mul(639,321)-mul(265,870) )mul(292,879)^>}'<select()when()from()+mul(616,445)):~mul(795,885)what()~;how(277,313)#&select()$%mul(354,350)$:-+@%mul(880,234)how()where()]]where();mul(352,975){,who()mul(614,564)-(what()@#/!mul(598,715)&&>)*+mul(13,237 why()*/:/)mul(128,243)(mul(691,104)-$@mul(622,807)[:mul(489,852))what(55,333)where()#&[how()#mul(502,795)[?mul(820how()@'why()((mul(620,867)mul(507,4)$^- mul(206,143)- mul(10,462)/what()where()what()^what()what()mul(734,952)%how()@mul(730,42)what()]why()when()mul(80,180)how()~?{[<when()!how()@mul(139,626)who()~who()where()$mul(284,441)%select()how()(:mul(453,410)?mul(738,130)who()mul(539,997 ^:[what()};who()'[mul(838,734) -#how();^<,$mul(620,399){,&what()~who()how()mul(212,300)why(232,764)from()mul(990,798)%^what()]select()??)when()mul(692,463)&{how()!who(258,688)select()from()mul(189,213)why()#*(who(222,676)mul(342,33);<]}*?(from()what()mul(766,152)>:where()?+where(),mul(261,682);$>^mul(946,198)*-~{select()?where()]mul(331,301){@()how()don't\",\n",
       " \"#<mul(545,311):?+&mul(273,325){mul(583,887)select();:@,<,$don't\",\n",
       " \":+select()#!/usr/bin/perl>#}:mul(110,876'~%from()!{select()mul(924,516)from(){::[#)!&[mul(316how()!from()>mul(570,999)\\n'}who()&%;}#mul(541,894),'<mul(330,649)} {~mul(883,287)who()mul(996,667)when()when() (;({]what()mul(424,528) {,*%!%&don't\",\n",
       " \"mul(752,615)select()}select();) ;mul(891,463)why()who(749,89)&$who() *}-where()mul(483,646)>}-[/mul(463,928)) #when()*who(818,29)where()(&don't\",\n",
       " \":?+ >;mul(151,167)mul~-!mul(873,682)%;;!~?mul(13,903)[$* }mul(188,728)#})(<<from()mul(718,235)where():/mul(843,662)]*)who()-how()[mul(540,880)) #;!%mul(791,474)}&],#don't\",\n",
       " \"^{/+~how()mul(174,478);what() %{[+!mul}/<)where()@mul(825,710)[ ]mul(60,655)+mul(538,818)-*mul(917,316)!from()&[)mul ?why()'^mul(32,228)~@-~^^mul(803,610)$((;~when()how()mul(622,388)^from()why()mul(291,294)select()+ mul(61,978)mul(986,197)why(405,935)where() where()#{%mul(383,280)%#]*@mul(266select()<>mul(459,359)*&$who()-&+&from()mul(122,271)#mul(85,195)^>select()where()?&mul(953,467 @,^@}@@[mul(297,412)^mul(845,508)where()who()how()}[?when()~%why()mul(320,30)-mul(348,650)*~;&mul(694,123)#+why()mul(516,744)mul(873,547)-select()<from()how()mul(302,513)<!?+]'what()mul(14,253)[ mul(856,612)%what()mul(3,715))/why()}$!how()>]mul(194,499)how()+what()>mul(542,764)who()%when()~mul(150,709)how()}where()@!{)from(773,172)mul(568,873)!+;mul(730,244)from()^ where()*[where()select()mul(554,163)(when()+$~where()*}@+don't\",\n",
       " \"when(984,806);!@:(&mul(59,374)&who():}:$ :mul(919,44)#)(!']why()select()mul(820,819){why(){*^<mul(252,247)when()~mul(808,286)/where()mul(478,366);mul(243,440)};mul(254,343)@[why()select(){% ;mul(825,962)[-{~~/;~mul(393,829)?&>#mul(439,942)>select()]/;select()/'mul(175,719)select()mul(890,515)+;)</{select()^%>mul(611select()-mul(881,340)><who())what(920,644)mul(184,821)])why(){how()mul(516,56)),->~?mul(984,156)mul(330,398)/;why()^ :who()mul(677,667)what()&*what()what()mul(686,640)):-when(),(+mul(40,933)what(423,54)/&#+when()mul(914,37);how()!*~!when()/mul(456,51)when()when()!+]!what()#what()don't\",\n",
       " \"&-?select()what()mul(505,64)mul(419,683)<what()}*@%#+why()mul(29,918),why(),>how()+*mul(365,948)/$!@&mul(782,899)}/!}~how()mul(73,229);~what()when()*#&where(751,442)who()mul(487,586)when()mul(258,912)@~{what()#]>when()when()mul(124,236)<mul(971,962){~<+how() what()mul(848,349)where()from()mul(506,498)$what()where()(how()where()!who()+mul(528,48);from()when()'why(424,255)#why()?mul(263,381)?~[)><%(-from()mul(65,560)*when(73,56)mul(675,80)}:^don't\",\n",
       " \"%where()mul(226,633)/?]where()(when()?don't\",\n",
       " \"@what()where()?@)select()<mul(551,872)mul(221,320)::,,;select()] mul(402,345)how()!'{<select(){where()when()who()mul(698,4)+who()%#[don't\"]"
      ]
     },
     "execution_count": 144,
     "metadata": {},
     "output_type": "execute_result"
    }
   ],
   "source": [
    "siffter"
   ]
  },
  {
   "cell_type": "code",
   "execution_count": 145,
   "metadata": {},
   "outputs": [],
   "source": [
    "for_processing = []\n",
    "for rec in siffter:\n",
    "    for_processing.append(re.findall(r'mul\\(\\d+,\\d+\\)',rec))"
   ]
  },
  {
   "cell_type": "code",
   "execution_count": 150,
   "metadata": {},
   "outputs": [
    {
     "name": "stdout",
     "output_type": "stream",
     "text": [
      "mul(417,770)\n",
      "mul(579,603)\n",
      "mul(98,768)\n",
      "mul(228,575)\n",
      "mul(691,254)\n",
      "mul(472,734)\n",
      "mul(545,311)\n",
      "mul(924,516)\n",
      "mul(752,615)\n",
      "mul(151,167)\n",
      "mul(174,478)\n",
      "mul(59,374)\n",
      "mul(505,64)\n",
      "mul(226,633)\n",
      "mul(551,872)\n"
     ]
    }
   ],
   "source": [
    "for i in for_processing:\n",
    "    print(i[0])"
   ]
  },
  {
   "cell_type": "code",
   "execution_count": 152,
   "metadata": {},
   "outputs": [],
   "source": [
    "digits = []\n",
    "for fp in for_processing:\n",
    "    for rec in fp:\n",
    "        digits.append((int(rec.replace('mul(','').replace(')','').split(',')[0]),int(rec.replace('mul(','').replace(')','').split(',')[1])))"
   ]
  },
  {
   "cell_type": "code",
   "execution_count": 153,
   "metadata": {},
   "outputs": [],
   "source": [
    "total = 0\n",
    "for digit in digits:\n",
    "    total += digit[0] * digit[1]"
   ]
  },
  {
   "cell_type": "code",
   "execution_count": 154,
   "metadata": {},
   "outputs": [
    {
     "data": {
      "text/plain": [
       "49091577"
      ]
     },
     "execution_count": 154,
     "metadata": {},
     "output_type": "execute_result"
    }
   ],
   "source": [
    "total"
   ]
  },
  {
   "cell_type": "code",
   "execution_count": null,
   "metadata": {},
   "outputs": [],
   "source": [
    "# Too Low 3293617"
   ]
  },
  {
   "cell_type": "code",
   "execution_count": 123,
   "metadata": {},
   "outputs": [
    {
     "data": {
      "text/plain": [
       "['2', '4']"
      ]
     },
     "execution_count": 123,
     "metadata": {},
     "output_type": "execute_result"
    }
   ],
   "source": [
    "for_processing[0][0].replace('mul(','').replace(')','').split(',')"
   ]
  },
  {
   "cell_type": "code",
   "execution_count": 116,
   "metadata": {},
   "outputs": [
    {
     "data": {
      "text/plain": [
       "[\"xmul(2,4)&mul[3,7]!^don't\", '?mul(8,5))']"
      ]
     },
     "execution_count": 116,
     "metadata": {},
     "output_type": "execute_result"
    }
   ],
   "source": [
    "siffter"
   ]
  },
  {
   "cell_type": "code",
   "execution_count": null,
   "metadata": {},
   "outputs": [],
   "source": []
  },
  {
   "cell_type": "code",
   "execution_count": 57,
   "metadata": {},
   "outputs": [
    {
     "name": "stdout",
     "output_type": "stream",
     "text": [
      "Checking xmul(2,4\n",
      "Appending ('2', '4')\n",
      "Checking &mul[3,7]!^don't(\n",
      "Switching to donts\n",
      "Checking _mul(5,5\n",
      "Appending ('5', '5')\n",
      "Checking +mul(32,64](mul(11,8\n",
      "Checking undo(\n",
      "Switching to dos\n",
      "Checking ?mul(8,5\n",
      "Appending ('8', '5')\n",
      "Checking \n",
      "Checking \n"
     ]
    }
   ],
   "source": [
    "dos = []\n",
    "donts = []\n",
    "for x in f.split(')'):\n",
    "    print(f\"Checking {x}\")\n",
    "    targ = dos\n",
    "    if \"don't(\" in x:\n",
    "        print(f\"Switching to donts\")\n",
    "        targ = donts\n",
    "    elif \"do(\" in x:\n",
    "        print(f\"Switching to dos\")\n",
    "        targ = dos\n",
    "    try:\n",
    "        if 'mul(' in x and x.split(',')[0].split('(')[1].isnumeric() and x.split(',')[1].isnumeric():\n",
    "            targ.append((x.split(',')[0].split('(')[1],x.split(',')[1]))\n",
    "            print(f\"Appending {(x.split(',')[0].split('(')[1],x.split(',')[1])}\")\n",
    "    except Exception as e:\n",
    "        pass"
   ]
  },
  {
   "cell_type": "code",
   "execution_count": 58,
   "metadata": {},
   "outputs": [
    {
     "data": {
      "text/plain": [
       "[]"
      ]
     },
     "execution_count": 58,
     "metadata": {},
     "output_type": "execute_result"
    }
   ],
   "source": [
    "donts"
   ]
  },
  {
   "cell_type": "code",
   "execution_count": 45,
   "metadata": {},
   "outputs": [],
   "source": [
    "total = 0\n",
    "for i in dos:\n",
    "    total += int(i[0]) * int(i[1])\n"
   ]
  },
  {
   "cell_type": "code",
   "execution_count": 46,
   "metadata": {},
   "outputs": [
    {
     "data": {
      "text/plain": [
       "73"
      ]
     },
     "execution_count": 46,
     "metadata": {},
     "output_type": "execute_result"
    }
   ],
   "source": [
    "total"
   ]
  },
  {
   "cell_type": "code",
   "execution_count": 47,
   "metadata": {},
   "outputs": [
    {
     "data": {
      "text/plain": [
       "[('2', '4'), ('5', '5'), ('8', '5')]"
      ]
     },
     "execution_count": 47,
     "metadata": {},
     "output_type": "execute_result"
    }
   ],
   "source": [
    "dos"
   ]
  },
  {
   "cell_type": "code",
   "execution_count": 50,
   "metadata": {},
   "outputs": [],
   "source": [
    "t1 = []\n",
    "t2 = []\n"
   ]
  },
  {
   "cell_type": "code",
   "execution_count": 51,
   "metadata": {},
   "outputs": [],
   "source": [
    "targ = t1"
   ]
  },
  {
   "cell_type": "code",
   "execution_count": 52,
   "metadata": {},
   "outputs": [],
   "source": [
    "targ.append('hi')"
   ]
  },
  {
   "cell_type": "code",
   "execution_count": 53,
   "metadata": {},
   "outputs": [],
   "source": [
    "targ = t2"
   ]
  },
  {
   "cell_type": "code",
   "execution_count": 54,
   "metadata": {},
   "outputs": [],
   "source": [
    "targ.append('n')"
   ]
  },
  {
   "cell_type": "code",
   "execution_count": 55,
   "metadata": {},
   "outputs": [
    {
     "data": {
      "text/plain": [
       "['n']"
      ]
     },
     "execution_count": 55,
     "metadata": {},
     "output_type": "execute_result"
    }
   ],
   "source": [
    "t2"
   ]
  },
  {
   "cell_type": "code",
   "execution_count": 56,
   "metadata": {},
   "outputs": [
    {
     "data": {
      "text/plain": [
       "['hi']"
      ]
     },
     "execution_count": 56,
     "metadata": {},
     "output_type": "execute_result"
    }
   ],
   "source": [
    "t1"
   ]
  },
  {
   "cell_type": "code",
   "execution_count": null,
   "metadata": {},
   "outputs": [],
   "source": []
  }
 ],
 "metadata": {
  "kernelspec": {
   "display_name": "Python 3",
   "language": "python",
   "name": "python3"
  },
  "language_info": {
   "codemirror_mode": {
    "name": "ipython",
    "version": 3
   },
   "file_extension": ".py",
   "mimetype": "text/x-python",
   "name": "python",
   "nbconvert_exporter": "python",
   "pygments_lexer": "ipython3",
   "version": "3.12.3"
  }
 },
 "nbformat": 4,
 "nbformat_minor": 2
}
